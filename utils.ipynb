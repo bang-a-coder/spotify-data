{
 "cells": [
  {
   "cell_type": "code",
   "execution_count": 5,
   "metadata": {},
   "outputs": [],
   "source": [
    "import pandas as pd\n",
    "import requests\n",
    "import json\n",
    "from pandas import json_normalize\n",
    "import logging\n",
    "import time\n",
    "import glob\n",
    "\n",
    "logging.basicConfig(filename='data_retrieval.log', level=logging.INFO)\n"
   ]
  },
  {
   "cell_type": "code",
   "execution_count": 15,
   "metadata": {},
   "outputs": [],
   "source": [
    "json_files = glob.glob('data_2024/streaming_history/*.json')\n",
    "json_dfs = [pd.read_json(file) for file in json_files]\n",
    "df = pd.concat(json_dfs, ignore_index=True)"
   ]
  },
  {
   "cell_type": "code",
   "execution_count": 22,
   "metadata": {},
   "outputs": [],
   "source": [
    "unique_tracks = df.drop_duplicates(subset='spotify_track_uri')"
   ]
  },
  {
   "cell_type": "code",
   "execution_count": 30,
   "metadata": {},
   "outputs": [],
   "source": [
    "track_basedata_b1 = pd.read_csv(\"fetched_data/uniquetracks_data.csv\")"
   ]
  },
  {
   "cell_type": "code",
   "execution_count": 33,
   "metadata": {},
   "outputs": [],
   "source": [
    "tracks_to_fetch = unique_tracks[~unique_tracks.spotify_track_uri.isin(track_basedata_b1.uri)]"
   ]
  },
  {
   "cell_type": "code",
   "execution_count": 34,
   "metadata": {},
   "outputs": [],
   "source": [
    "df.to_csv(\"data_2024/streaming_history/streamin_history_concat.csv\", index = False)"
   ]
  },
  {
   "cell_type": "code",
   "execution_count": 35,
   "metadata": {},
   "outputs": [],
   "source": [
    "# tracks_to_fetch.to_csv(\"tracks_to_fetch.csv\", index=False)"
   ]
  },
  {
   "cell_type": "code",
   "execution_count": 19,
   "metadata": {},
   "outputs": [],
   "source": [
    "df1 = pd.read_csv(\"fetched_audiofeatures/uniqeutracks_audiofeatures.csv\")\n",
    "\n",
    "allfiles = [f'fetched_audiofeatures/batches_supplement/track_data_{i}.csv' for i in range(0, 7650, 50)]\n",
    "df_files = [pd.read_csv(file) for file in allfiles]\n",
    "df2 = pd.concat(df_files, ignore_index=True)\n",
    "\n",
    "dfall = pd.concat([df1, df2], ignore_index=True)\n",
    "dfall.drop_duplicates(subset='id', inplace=True)\n",
    "\n",
    "# dfall.to_csv((\"fetched_audiofeatures/uniqeutracks_audiofeatures.csv\"), index=False)"
   ]
  },
  {
   "cell_type": "code",
   "execution_count": null,
   "metadata": {},
   "outputs": [],
   "source": []
  }
 ],
 "metadata": {
  "kernelspec": {
   "display_name": "Python 3",
   "language": "python",
   "name": "python3"
  },
  "language_info": {
   "codemirror_mode": {
    "name": "ipython",
    "version": 3
   },
   "file_extension": ".py",
   "mimetype": "text/x-python",
   "name": "python",
   "nbconvert_exporter": "python",
   "pygments_lexer": "ipython3",
   "version": "3.11.6"
  }
 },
 "nbformat": 4,
 "nbformat_minor": 2
}
