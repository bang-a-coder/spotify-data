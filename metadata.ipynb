{
 "cells": [
  {
   "cell_type": "code",
   "execution_count": 249,
   "metadata": {},
   "outputs": [],
   "source": [
    "import pandas as pd\n",
    "import requests\n",
    "import json\n",
    "from pandas import json_normalize\n",
    "import logging\n",
    "import time\n",
    "\n",
    "logging.basicConfig(filename='data_retrieval.log', level=logging.INFO)\n"
   ]
  },
  {
   "cell_type": "code",
   "execution_count": 242,
   "metadata": {},
   "outputs": [],
   "source": [
    "sid = '09dceb980747489297e7ea0a51077a66'\n",
    "skey = 'f3543385c18c48cd98018f4cc39bf12a'\n",
    "baseURL = 'https://api.spotify.com'\n"
   ]
  },
  {
   "cell_type": "markdown",
   "metadata": {},
   "source": [
    "### Endpoints"
   ]
  },
  {
   "cell_type": "code",
   "execution_count": 243,
   "metadata": {},
   "outputs": [],
   "source": [
    "def request_access_token(cid = sid, skey = skey ):\n",
    "    url = \"https://accounts.spotify.com/api/token\"\n",
    "    headers = {\n",
    "        \"Content-Type\": \"application/x-www-form-urlencoded\"\n",
    "    }\n",
    "    data = {\n",
    "        \"grant_type\": \"client_credentials\",\n",
    "        \"client_id\": cid,\n",
    "        \"client_secret\": skey\n",
    "    }\n",
    "\n",
    "    response = requests.post(url, headers=headers, data=data)\n",
    "    if response.status_code == 200:\n",
    "        return response.json().get('access_token')\n",
    "    else:\n",
    "        print(f\"Failed to obtain token, status code: {response.status_code}\")\n",
    "        return None\n",
    "\n",
    "def fetch_tracks_info(track_ids):\n",
    "    ids = ','.join(track_ids)\n",
    "    url = f\"https://api.spotify.com/v1/tracks?ids={ids}\"\n",
    "    \n",
    "    try:\n",
    "        response = requests.get(url, headers=headers)\n",
    "        return response\n",
    "    except requests.RequestException as e:\n",
    "        # Log the error or handle it as needed\n",
    "        print(f\"Request failed: {e}\")\n",
    "        # Consider raising an exception here to indicate the failure to the caller\n",
    "        raise\n",
    "\n",
    "def fetch_tracks_audiofeatures(track_ids):\n",
    "    ids = ','.join(track_ids)\n",
    "    url = f\"https://api.spotify.com/v1/audio-features?ids={ids}\"\n",
    "    \n",
    "    try:\n",
    "        response = requests.get(url, headers=headers)\n",
    "        return response\n",
    "    except requests.RequestException as e:\n",
    "        print(f\"Request failed: {e}\")\n",
    "        raise\n"
   ]
  },
  {
   "cell_type": "markdown",
   "metadata": {},
   "source": [
    "### Endpoint utils"
   ]
  },
  {
   "cell_type": "code",
   "execution_count": 244,
   "metadata": {},
   "outputs": [],
   "source": [
    "def new_session_headers():\n",
    "    headers = {\n",
    "        \"Authorization\": f'Bearer {request_access_token()}',\n",
    "    }\n",
    "\n",
    "    return headers"
   ]
  },
  {
   "cell_type": "code",
   "execution_count": 245,
   "metadata": {},
   "outputs": [],
   "source": [
    "headers = new_session_headers()"
   ]
  },
  {
   "cell_type": "markdown",
   "metadata": {},
   "source": [
    "### Core data"
   ]
  },
  {
   "cell_type": "code",
   "execution_count": 246,
   "metadata": {},
   "outputs": [],
   "source": [
    "all_files = [f\"./data_2022/MyData_streaming_hist/endsong_{i}.json\" for i in range(12)]\n",
    "df_list = [pd.read_json(file) for file in all_files]\n",
    "df = pd.concat(df_list, ignore_index=True)\n",
    "df.ts = pd.to_datetime(df.ts)\n",
    "\n",
    "non_tracks = df.loc[df.spotify_track_uri.str.contains('track') != True].index\n",
    "df.drop(index=non_tracks, inplace=True)\n",
    "\n",
    "df = df.sort_values(by='ts').reset_index(drop = True)\n",
    "\n",
    "df = df[['spotify_track_uri', 'ts']].copy()"
   ]
  },
  {
   "cell_type": "markdown",
   "metadata": {},
   "source": [
    "### Metadata retrieval"
   ]
  },
  {
   "cell_type": "code",
   "execution_count": 259,
   "metadata": {},
   "outputs": [],
   "source": [
    "def get_batch_metadata(batch_list, start_id=0, end_id=1):\n",
    "    try:\n",
    "        fetched_info = fetch_tracks_info(batch_list)\n",
    "        fetched_info.raise_for_status()  # Raises an HTTPError if the response was an error\n",
    "        \n",
    "        tracks_data = fetched_info.json().get('tracks', [])\n",
    "        frames = [json_normalize(track) for track in tracks_data]\n",
    "        df = pd.concat(frames, ignore_index=True)\n",
    "        return df\n",
    "    except requests.HTTPError as e:\n",
    "        logging.error(f\"Failed for IDs {start_id} to {end_id}. HTTP Error: {e}\")\n",
    "        raise  # Re-raise the exception after logging it\n",
    "    except Exception as e:\n",
    "        logging.error(f\"Unexpected error for IDs {start_id} to {end_id}: {e}\")\n",
    "        raise  # Re-raise unexpected exceptions\n",
    "\n",
    "def get_batch_audiofeatures(batch_list, start_id=0, end_id=1):\n",
    "    try:\n",
    "        fetched_info = fetch_tracks_audiofeatures(batch_list)\n",
    "        if fetched_info.status_code != 200:\n",
    "            logging.error(f\"Failed for IDs {start_id} to {end_id}. HTTP Status Code: {fetched_info.status_code}\")\n",
    "            return fetched_info\n",
    "\n",
    "        tracks_data = fetched_info.json().get('audio_features', [])\n",
    "        frames = [json_normalize(track) for track in tracks_data]\n",
    "        df = pd.concat(frames, ignore_index=True)\n",
    "        return df\n",
    "    except Exception as e:\n",
    "        logging.error(f\"Unexpected error for IDs {start_id} to {end_id}: {e}\")\n",
    "        raise  # Re-raise unexpected exceptions\n",
    "\n",
    "def save_data(data, start_id, end_id, folder):\n",
    "    data.to_csv(f'{folder}/track_data_{start_id}.csv', index = False)\n",
    "    logging.info(f'Data saved from {start_id} to {end_id}')\n",
    "\n",
    "    return True"
   ]
  },
  {
   "cell_type": "code",
   "execution_count": 283,
   "metadata": {},
   "outputs": [
    {
     "name": "stdout",
     "output_type": "stream",
     "text": [
      "No data returned for batch starting at 99950.\n"
     ]
    }
   ],
   "source": [
    "def batchit():\n",
    "    chunk_size = 50\n",
    "    for start in range(99950, len(df), chunk_size):\n",
    "        end = start + chunk_size\n",
    "        chunk = df[start:end]\n",
    "        batch_list = list(chunk.spotify_track_uri.apply(lambda x: x.split(':')[-1])) #get just spotify id from uri\n",
    "        data = get_batch_audiofeatures(batch_list, start, end)\n",
    "        # data = get_batch_metadata(batch_list, start, end)\n",
    "\n",
    "        if isinstance(data, pd.DataFrame) and not data.empty:\n",
    "            save_data(data, start, end, 'fetched_audiofeatures')\n",
    "            print('Finished:', start, batch_list) \n",
    "        else:\n",
    "            print(f'No data returned for batch starting at {start}.')\n",
    "            return data\n",
    "            \n",
    "        time.sleep(1)\n",
    "    return None\n",
    "\n",
    "batchresult = batchit()"
   ]
  },
  {
   "cell_type": "code",
   "execution_count": 289,
   "metadata": {},
   "outputs": [
    {
     "data": {
      "text/plain": [
       "{'content-type': 'application/json; charset=utf-8', 'cache-control': 'private, max-age=0', 'access-control-allow-origin': '*', 'access-control-allow-headers': 'Accept, App-Platform, Authorization, Content-Type, Origin, Retry-After, Spotify-App-Version, X-Cloud-Trace-Context, client-token, content-access-token', 'access-control-allow-methods': 'GET, POST, OPTIONS, PUT, DELETE, PATCH', 'access-control-allow-credentials': 'true', 'access-control-max-age': '604800', 'content-encoding': 'gzip', 'strict-transport-security': 'max-age=31536000', 'x-content-type-options': 'nosniff', 'date': 'Sun, 03 Mar 2024 00:14:36 GMT', 'server': 'envoy', 'Via': 'HTTP/2 edgeproxy, 1.1 google', 'Alt-Svc': 'h3=\":443\"; ma=2592000,h3-29=\":443\"; ma=2592000', 'Transfer-Encoding': 'chunked'}"
      ]
     },
     "execution_count": 289,
     "metadata": {},
     "output_type": "execute_result"
    }
   ],
   "source": [
    "batchresult.headers"
   ]
  },
  {
   "cell_type": "code",
   "execution_count": null,
   "metadata": {},
   "outputs": [],
   "source": []
  }
 ],
 "metadata": {
  "kernelspec": {
   "display_name": "Python 3",
   "language": "python",
   "name": "python3"
  },
  "language_info": {
   "codemirror_mode": {
    "name": "ipython",
    "version": 3
   },
   "file_extension": ".py",
   "mimetype": "text/x-python",
   "name": "python",
   "nbconvert_exporter": "python",
   "pygments_lexer": "ipython3",
   "version": "3.11.6"
  }
 },
 "nbformat": 4,
 "nbformat_minor": 2
}
