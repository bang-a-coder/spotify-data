{
 "cells": [
  {
   "cell_type": "code",
   "execution_count": 11,
   "metadata": {},
   "outputs": [],
   "source": [
    "import pandas as pd\n",
    "import requests\n",
    "import json\n",
    "from pandas import json_normalize\n",
    "import logging\n",
    "import time\n",
    "\n",
    "logging.basicConfig(filename='data_retrieval.log', level=logging.INFO)\n"
   ]
  },
  {
   "cell_type": "code",
   "execution_count": 12,
   "metadata": {},
   "outputs": [],
   "source": [
    "sid = '09dceb980747489297e7ea0a51077a66'\n",
    "skey = 'f3543385c18c48cd98018f4cc39bf12a'\n",
    "baseURL = 'https://api.spotify.com'\n"
   ]
  },
  {
   "cell_type": "markdown",
   "metadata": {},
   "source": [
    "### Endpoints"
   ]
  },
  {
   "cell_type": "code",
   "execution_count": 13,
   "metadata": {},
   "outputs": [],
   "source": [
    "def request_access_token(cid = sid, skey = skey ):\n",
    "    url = \"https://accounts.spotify.com/api/token\"\n",
    "    headers = {\n",
    "        \"Content-Type\": \"application/x-www-form-urlencoded\"\n",
    "    }\n",
    "    data = {\n",
    "        \"grant_type\": \"client_credentials\",\n",
    "        \"client_id\": cid,\n",
    "        \"client_secret\": skey\n",
    "    }\n",
    "\n",
    "    response = requests.post(url, headers=headers, data=data)\n",
    "    if response.status_code == 200:\n",
    "        return response.json().get('access_token')\n",
    "    else:\n",
    "        print(f\"Failed to obtain token, status code: {response.status_code}\")\n",
    "        return None\n",
    "\n",
    "def fetch_tracks_info(track_ids):\n",
    "    ids = ','.join(track_ids)\n",
    "    url = f\"https://api.spotify.com/v1/tracks?ids={ids}\"\n",
    "    \n",
    "    try:\n",
    "        response = requests.get(url, headers=headers)\n",
    "        return response\n",
    "    except requests.RequestException as e:\n",
    "        # Log the error or handle it as needed\n",
    "        print(f\"Request failed: {e}\")\n",
    "        # Consider raising an exception here to indicate the failure to the caller\n",
    "        raise\n",
    "\n",
    "def fetch_tracks_audiofeatures(track_ids):\n",
    "    ids = ','.join(track_ids)\n",
    "    url = f\"https://api.spotify.com/v1/audio-features?ids={ids}\"\n",
    "    \n",
    "    try:\n",
    "        response = requests.get(url, headers=headers)\n",
    "        return response\n",
    "    except requests.RequestException as e:\n",
    "        print(f\"Request failed: {e}\", response)\n",
    "        raise\n"
   ]
  },
  {
   "cell_type": "markdown",
   "metadata": {},
   "source": [
    "### Endpoint utils"
   ]
  },
  {
   "cell_type": "code",
   "execution_count": 14,
   "metadata": {},
   "outputs": [],
   "source": [
    "def new_session_headers():\n",
    "    headers = {\n",
    "        \"Authorization\": f'Bearer {request_access_token()}',\n",
    "    }\n",
    "\n",
    "    return headers"
   ]
  },
  {
   "cell_type": "code",
   "execution_count": 15,
   "metadata": {},
   "outputs": [],
   "source": [
    "headers = new_session_headers()"
   ]
  },
  {
   "cell_type": "markdown",
   "metadata": {},
   "source": [
    "### Core data"
   ]
  },
  {
   "cell_type": "code",
   "execution_count": 16,
   "metadata": {},
   "outputs": [],
   "source": [
    "all_files = [f\"./data_2022/MyData_streaming_hist/endsong_{i}.json\" for i in range(12)]\n",
    "df_list = [pd.read_json(file) for file in all_files]\n",
    "df = pd.concat(df_list, ignore_index=True)\n",
    "df.ts = pd.to_datetime(df.ts)\n",
    "\n",
    "non_tracks = df.loc[df.spotify_track_uri.str.contains('track') != True].index\n",
    "df.drop(index=non_tracks, inplace=True)\n",
    "\n",
    "df = df.sort_values(by='ts').reset_index(drop = True)\n",
    "\n",
    "df = df[['spotify_track_uri', 'ts']].copy()"
   ]
  },
  {
   "cell_type": "markdown",
   "metadata": {},
   "source": [
    "### Metadata retrieval"
   ]
  },
  {
   "cell_type": "code",
   "execution_count": 17,
   "metadata": {},
   "outputs": [],
   "source": [
    "def get_batch_metadata(batch_list, start_id=0, end_id=1):\n",
    "    try:\n",
    "        fetched_info = fetch_tracks_info(batch_list)\n",
    "        fetched_info.raise_for_status()  # Raises an HTTPError if the response was an error\n",
    "        \n",
    "        tracks_data = fetched_info.json().get('tracks', [])\n",
    "        frames = [json_normalize(track) for track in tracks_data]\n",
    "        df = pd.concat(frames, ignore_index=True)\n",
    "        return df\n",
    "    except requests.HTTPError as e:\n",
    "        logging.error(f\"Failed for IDs {start_id} to {end_id}. HTTP Error: {e}\")\n",
    "        raise  # Re-raise the exception after logging it\n",
    "    except Exception as e:\n",
    "        logging.error(f\"Unexpected error for IDs {start_id} to {end_id}: {e}\")\n",
    "        raise  # Re-raise unexpected exceptions\n",
    "\n",
    "def get_batch_audiofeatures(batch_list, start_id=0, end_id=1):\n",
    "    try:\n",
    "        fetched_info = fetch_tracks_audiofeatures(batch_list)\n",
    "        fetched_info.raise_for_status()\n",
    "\n",
    "        tracks_data = fetched_info.json().get('audio_features', [])\n",
    "        frames = [json_normalize(track) for track in tracks_data]\n",
    "        df = pd.concat(frames, ignore_index=True)\n",
    "        return df\n",
    "    except requests.exceptions.HTTPError as e:\n",
    "        if e.response.status_code == 429:\n",
    "            retry_after = int(e.response.headers.get('Retry-After'))\n",
    "            logging.info(f\"Rate limit exceeded. Retrying after {retry_after} seconds.\")\n",
    "            return retry_after\n",
    "        else:\n",
    "            logging.error(f\"HTTP Error for IDs {start_id} to {end_id}: {e}\")\n",
    "            raise\n",
    "    except Exception as e:\n",
    "        logging.error(f\"Unexpected error for IDs {start_id} to {end_id}: {e}\")\n",
    "        raise\n",
    "\n",
    "def save_data(data, start_id, end_id, folder):\n",
    "    data.to_csv(f'{folder}/track_data_{start_id}.csv', index = False)\n",
    "    logging.info(f'Data saved from {start_id} to {end_id}')\n",
    "\n",
    "    return True"
   ]
  },
  {
   "cell_type": "code",
   "execution_count": 18,
   "metadata": {},
   "outputs": [
    {
     "name": "stdout",
     "output_type": "stream",
     "text": [
      "Finished: 100000 ['1r4LajAwZBMufNXGxG56em', '1r4LajAwZBMufNXGxG56em', '1rzpBug5iLlcjTJcHF5OeL', '1rzpBug5iLlcjTJcHF5OeL', '5AxF9GFsJIMZMBgvxhazMi', '01iglyLhCYZYlCqAxY8Vfz', '3ypgFxGFG23ZAksYMrAps7', '3kwl9ycRoO7qSm6OZblqqB', '6XDdCcpLgQa6WgSmM7wBrG', '4EVWMkJXLVPoKbdYf8QAqI', '4EVWMkJXLVPoKbdYf8QAqI', '0tbTWvzyJgjV43pMyIG0Ng', '0tbTWvzyJgjV43pMyIG0Ng', '3sgWl7edt8ANfm1Z3lsXan', '659CdcGqJ8VxR2aXeLyV2O', '5XxFY11r0YA6Xoyh1O9WsR', '7vqcDtNvoJn5pXhktc8qe8', '1HmAx26E2PIQBWhRv0VSAV', '1HmAx26E2PIQBWhRv0VSAV', '7kyiQ2oxgT0XX8yhzBWE6t', '7kyiQ2oxgT0XX8yhzBWE6t', '4C2vliOPlcMPRMfceLqsKh', '4C2vliOPlcMPRMfceLqsKh', '6VGNzYErt08Rai78mLkIzI', '6VGNzYErt08Rai78mLkIzI', '2NJtgZk8OWI2u58iGLzJNq', '6xkcixqFy3qDbz7EPrn6oy', '4MOCTiC5mMrJuhLFSNjiIM', '2hiYgtiU7j5zzLs7ib5uIt', '1c04ndvRQDQeVzsSPB4xOT', '4FvdRNsf5CwmZqBNomtjFA', '2gNjmvuQiEd2z9SqyYi8HH', '1qCQTy0fTXerET4x8VHyr9', '6Rqn2GFlmvmV4w9Ala0I1e', '0yRbkTprsL0rYr4UId0Ryi', '0yRbkTprsL0rYr4UId0Ryi', '6Rqn2GFlmvmV4w9Ala0I1e', '6Rqn2GFlmvmV4w9Ala0I1e', '78MI7mu1LV1k4IA2HzKmHe', '0yRbkTprsL0rYr4UId0Ryi', '0Yj7WP1MbAqQVQA5Na4I7E', '0sjxRg1VlYfx4YG7uxurrq', '3G2zIBotS9OUCK5uaHN2hz', '3TD09egV1B0k6i2e8Q9Xg6', '1tOerPxHR5xIf1fopxhtPn', '3TD09egV1B0k6i2e8Q9Xg6', '1tOerPxHR5xIf1fopxhtPn', '49tCAvPPUc15A0UfcHLpLZ', '3ErO4U3pzuvU4C7sUvAjSM', '5CfPRueKZDYezGKqDoJm4y']\n"
     ]
    },
    {
     "ename": "TypeError",
     "evalue": "int() argument must be a string, a bytes-like object or a real number, not 'NoneType'",
     "output_type": "error",
     "traceback": [
      "\u001b[0;31m---------------------------------------------------------------------------\u001b[0m",
      "\u001b[0;31mHTTPError\u001b[0m                                 Traceback (most recent call last)",
      "Cell \u001b[0;32mIn[17], line 20\u001b[0m, in \u001b[0;36mget_batch_audiofeatures\u001b[0;34m(batch_list, start_id, end_id)\u001b[0m\n\u001b[1;32m     19\u001b[0m fetched_info \u001b[38;5;241m=\u001b[39m fetch_tracks_audiofeatures(batch_list)\n\u001b[0;32m---> 20\u001b[0m \u001b[43mfetched_info\u001b[49m\u001b[38;5;241;43m.\u001b[39;49m\u001b[43mraise_for_status\u001b[49m\u001b[43m(\u001b[49m\u001b[43m)\u001b[49m\n\u001b[1;32m     22\u001b[0m tracks_data \u001b[38;5;241m=\u001b[39m fetched_info\u001b[38;5;241m.\u001b[39mjson()\u001b[38;5;241m.\u001b[39mget(\u001b[38;5;124m'\u001b[39m\u001b[38;5;124maudio_features\u001b[39m\u001b[38;5;124m'\u001b[39m, [])\n",
      "File \u001b[0;32m/opt/homebrew/lib/python3.11/site-packages/requests/models.py:1021\u001b[0m, in \u001b[0;36mResponse.raise_for_status\u001b[0;34m(self)\u001b[0m\n\u001b[1;32m   1020\u001b[0m \u001b[38;5;28;01mif\u001b[39;00m http_error_msg:\n\u001b[0;32m-> 1021\u001b[0m     \u001b[38;5;28;01mraise\u001b[39;00m HTTPError(http_error_msg, response\u001b[38;5;241m=\u001b[39m\u001b[38;5;28mself\u001b[39m)\n",
      "\u001b[0;31mHTTPError\u001b[0m: 429 Client Error: Too Many Requests for url: https://api.spotify.com/v1/audio-features?ids=1qCQTy0fTXerET4x8VHyr9,3kwl9ycRoO7qSm6OZblqqB,0tbTWvzyJgjV43pMyIG0Ng,3kwl9ycRoO7qSm6OZblqqB,4EVWMkJXLVPoKbdYf8QAqI,0tbTWvzyJgjV43pMyIG0Ng,1G4ooC8TpoOQj2dlcrNBUV,7nkQKkwybFY2zPdHF9xWxR,18MlLrfCkYOnKutil99GwY,0B2GWovtxzsh0a02PBbNl7,4V0rrbFdfzLbcV3WOYjXXa,1Ilw7ZQOSFg1yQZdxu2glJ,50DRMWm6dpvlX7FwHL7lnJ,749Mtume0Grk4MDue5DJ6C,6gFTSipaHA90XXTQ7XFagC,0G0YNyeSvMQhX1PTd1sZdg,1ZUwoCWz8rJqzBTwtdscPN,6ZFbXIJkuI1dVNWvzJzown,4UanIUM2nRRlgn49kHG4SX,2LRGlAf2hmATTi9K9zAiV3,4X6wlKIW5Zs0q9FuT9bCWp,6XDdCcpLgQa6WgSmM7wBrG,4EVWMkJXLVPoKbdYf8QAqI,1e3hPMCGrwPXYZ1DQhsiCE,5F3yndQAzMTY4x8FCgrvtn,6MN6yRVriszuyAVlyF8ndB,23HbVSe9tW6reJoX1dCEoY,2bcC9Xyi40wnI7Od5uch31,4EVWMkJXLVPoKbdYf8QAqI,550AxPeExCS0ysUGR2UGdV,4EVWMkJXLVPoKbdYf8QAqI,2hiYgtiU7j5zzLs7ib5uIt,23HbVSe9tW6reJoX1dCEoY,6I8EbSSjimK98wiDCMtnBQ,5DHWQKUZfzrFXcYNnvBYbQ,2Re1odQXMw2Wh9mTw936Kn,65p97eP4CoW3rG7OIcBgoq,31yiwgMmhHq3rvPQNifYrP,2wYcFlIcbj0Aw1Jsek5jjS,7daANYwqGtxlc2vHJydSLQ,286jgoLB1dXQSFbcbWsiBX,6VNooTY5w9A9wg1YUsEbKB,3DH42U4bDllHWK6tQc4OQF,6EiOaXSkNJGmEDwDilslHH,5jl66swIrLT0yiHDugEm8p,40QdVaXuZgxZ8vdoaFDNsL,7a5xvCgoD8qFEQmO8Jjvtf,6HSXNV0b4M4cLJ7ljgVVeh,5lcqFkCiRvf7oxoIXXNUcp,2MddqD0MryxIAKS03raHsz",
      "\nDuring handling of the above exception, another exception occurred:\n",
      "\u001b[0;31mTypeError\u001b[0m                                 Traceback (most recent call last)",
      "Cell \u001b[0;32mIn[18], line 20\u001b[0m\n\u001b[1;32m     17\u001b[0m         time\u001b[38;5;241m.\u001b[39msleep(\u001b[38;5;241m1\u001b[39m)\n\u001b[1;32m     18\u001b[0m     \u001b[38;5;28;01mreturn\u001b[39;00m \u001b[38;5;28;01mNone\u001b[39;00m\n\u001b[0;32m---> 20\u001b[0m batchresult \u001b[38;5;241m=\u001b[39m \u001b[43mbatchit\u001b[49m\u001b[43m(\u001b[49m\u001b[43m)\u001b[49m\n",
      "Cell \u001b[0;32mIn[18], line 7\u001b[0m, in \u001b[0;36mbatchit\u001b[0;34m()\u001b[0m\n\u001b[1;32m      5\u001b[0m chunk \u001b[38;5;241m=\u001b[39m df[start:end]\n\u001b[1;32m      6\u001b[0m batch_list \u001b[38;5;241m=\u001b[39m \u001b[38;5;28mlist\u001b[39m(chunk\u001b[38;5;241m.\u001b[39mspotify_track_uri\u001b[38;5;241m.\u001b[39mapply(\u001b[38;5;28;01mlambda\u001b[39;00m x: x\u001b[38;5;241m.\u001b[39msplit(\u001b[38;5;124m'\u001b[39m\u001b[38;5;124m:\u001b[39m\u001b[38;5;124m'\u001b[39m)[\u001b[38;5;241m-\u001b[39m\u001b[38;5;241m1\u001b[39m])) \u001b[38;5;66;03m#get just spotify id from uri\u001b[39;00m\n\u001b[0;32m----> 7\u001b[0m data \u001b[38;5;241m=\u001b[39m \u001b[43mget_batch_audiofeatures\u001b[49m\u001b[43m(\u001b[49m\u001b[43mbatch_list\u001b[49m\u001b[43m,\u001b[49m\u001b[43m \u001b[49m\u001b[43mstart\u001b[49m\u001b[43m,\u001b[49m\u001b[43m \u001b[49m\u001b[43mend\u001b[49m\u001b[43m)\u001b[49m\n\u001b[1;32m      8\u001b[0m \u001b[38;5;66;03m# data = get_batch_metadata(batch_list, start, end)\u001b[39;00m\n\u001b[1;32m     10\u001b[0m \u001b[38;5;28;01mif\u001b[39;00m \u001b[38;5;28misinstance\u001b[39m(data, pd\u001b[38;5;241m.\u001b[39mDataFrame) \u001b[38;5;129;01mand\u001b[39;00m \u001b[38;5;129;01mnot\u001b[39;00m data\u001b[38;5;241m.\u001b[39mempty:\n",
      "Cell \u001b[0;32mIn[17], line 28\u001b[0m, in \u001b[0;36mget_batch_audiofeatures\u001b[0;34m(batch_list, start_id, end_id)\u001b[0m\n\u001b[1;32m     26\u001b[0m \u001b[38;5;28;01mexcept\u001b[39;00m requests\u001b[38;5;241m.\u001b[39mexceptions\u001b[38;5;241m.\u001b[39mHTTPError \u001b[38;5;28;01mas\u001b[39;00m e:\n\u001b[1;32m     27\u001b[0m     \u001b[38;5;28;01mif\u001b[39;00m e\u001b[38;5;241m.\u001b[39mresponse\u001b[38;5;241m.\u001b[39mstatus_code \u001b[38;5;241m==\u001b[39m \u001b[38;5;241m429\u001b[39m:\n\u001b[0;32m---> 28\u001b[0m         retry_after \u001b[38;5;241m=\u001b[39m \u001b[38;5;28;43mint\u001b[39;49m\u001b[43m(\u001b[49m\u001b[43me\u001b[49m\u001b[38;5;241;43m.\u001b[39;49m\u001b[43mresponse\u001b[49m\u001b[38;5;241;43m.\u001b[39;49m\u001b[43mheaders\u001b[49m\u001b[38;5;241;43m.\u001b[39;49m\u001b[43mget\u001b[49m\u001b[43m(\u001b[49m\u001b[38;5;124;43m'\u001b[39;49m\u001b[38;5;124;43mRetry-After\u001b[39;49m\u001b[38;5;124;43m'\u001b[39;49m\u001b[43m)\u001b[49m\u001b[43m)\u001b[49m\n\u001b[1;32m     29\u001b[0m         logging\u001b[38;5;241m.\u001b[39minfo(\u001b[38;5;124mf\u001b[39m\u001b[38;5;124m\"\u001b[39m\u001b[38;5;124mRate limit exceeded. Retrying after \u001b[39m\u001b[38;5;132;01m{\u001b[39;00mretry_after\u001b[38;5;132;01m}\u001b[39;00m\u001b[38;5;124m seconds.\u001b[39m\u001b[38;5;124m\"\u001b[39m)\n\u001b[1;32m     30\u001b[0m         \u001b[38;5;28;01mreturn\u001b[39;00m retry_after\n",
      "\u001b[0;31mTypeError\u001b[0m: int() argument must be a string, a bytes-like object or a real number, not 'NoneType'"
     ]
    }
   ],
   "source": [
    "def batchit():\n",
    "    chunk_size = 50\n",
    "    for start in range(100000, len(df), chunk_size):\n",
    "        end = start + chunk_size\n",
    "        chunk = df[start:end]\n",
    "        batch_list = list(chunk.spotify_track_uri.apply(lambda x: x.split(':')[-1])) #get just spotify id from uri\n",
    "        data = get_batch_audiofeatures(batch_list, start, end)\n",
    "        # data = get_batch_metadata(batch_list, start, end)\n",
    "\n",
    "        if isinstance(data, pd.DataFrame) and not data.empty:\n",
    "            save_data(data, start, end, 'fetched_audiofeatures')\n",
    "            print('Finished:', start, batch_list) \n",
    "        else:\n",
    "            print(f'No data returned for batch starting at {start}.')\n",
    "            return data\n",
    "            \n",
    "        time.sleep(1)\n",
    "    return None\n",
    "\n",
    "batchresult = batchit()"
   ]
  },
  {
   "cell_type": "code",
   "execution_count": 20,
   "metadata": {},
   "outputs": [
    {
     "ename": "NameError",
     "evalue": "name 'batchresult' is not defined",
     "output_type": "error",
     "traceback": [
      "\u001b[0;31m---------------------------------------------------------------------------\u001b[0m",
      "\u001b[0;31mNameError\u001b[0m                                 Traceback (most recent call last)",
      "Cell \u001b[0;32mIn[20], line 1\u001b[0m\n\u001b[0;32m----> 1\u001b[0m \u001b[43mbatchresult\u001b[49m\u001b[38;5;241m.\u001b[39mheaders\u001b[38;5;241m.\u001b[39mget(\u001b[38;5;124m'\u001b[39m\u001b[38;5;124mRetry-after\u001b[39m\u001b[38;5;124m'\u001b[39m, \u001b[38;5;241m1\u001b[39m)\n",
      "\u001b[0;31mNameError\u001b[0m: name 'batchresult' is not defined"
     ]
    }
   ],
   "source": [
    "batchresult.headers.get('Retry-after', 1)"
   ]
  },
  {
   "cell_type": "code",
   "execution_count": null,
   "metadata": {},
   "outputs": [],
   "source": []
  }
 ],
 "metadata": {
  "kernelspec": {
   "display_name": "Python 3",
   "language": "python",
   "name": "python3"
  },
  "language_info": {
   "codemirror_mode": {
    "name": "ipython",
    "version": 3
   },
   "file_extension": ".py",
   "mimetype": "text/x-python",
   "name": "python",
   "nbconvert_exporter": "python",
   "pygments_lexer": "ipython3",
   "version": "3.11.6"
  }
 },
 "nbformat": 4,
 "nbformat_minor": 2
}
